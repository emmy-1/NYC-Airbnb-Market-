{
 "cells": [
  {
   "cell_type": "markdown",
   "metadata": {},
   "source": [
    "## NYC Airbnb Market Analysis\n",
    "As a consultant working for a real estate start-up, you have collected Airbnb listing data from various sources to investigate the short-term rental market in New York. You'll analyze this data to provide insights on private rooms to the real estate company.\n",
    "\n"
   ]
  },
  {
   "cell_type": "markdown",
   "metadata": {},
   "source": [
    "### Aims And Objectives\n",
    "\n",
    "1. What are the dates of the earliest and most recent reviews? Store these values as two separate variables with your preferred names.\n",
    "2. How many of the listings are private rooms? Save this into any variable.\n",
    "3. What is the average listing price? Round to the nearest penny and save into a variable.\n",
    "4. Combine the new variables into one DataFrame called review_dates with four columns in the following order: \n",
    "   first_reviewed, last_reviewed,    nb_private_rooms, and avg_price. The DataFrame should only contain one row of values."
   ]
  },
  {
   "cell_type": "markdown",
   "metadata": {},
   "source": [
    "### Data Gathering\n",
    "Three files containing data on 2019 Airbnb listings will be used to answer these questions"
   ]
  },
  {
   "cell_type": "markdown",
   "metadata": {},
   "source": [
    "### Importing the Airbnb Dataset"
   ]
  },
  {
   "cell_type": "code",
   "execution_count": 9,
   "metadata": {},
   "outputs": [],
   "source": [
    "import pandas as pd\n",
    "import datetime as dt\n",
    "import numpy as np\n",
    "import matplotlib.pyplot as plt\n",
    "import seaborn as sns\n",
    "from ydata_profiling import ProfileReport\n"
   ]
  },
  {
   "cell_type": "code",
   "execution_count": 10,
   "metadata": {},
   "outputs": [],
   "source": [
    "def Price_dataset():\n",
    "    \"\"\"\"\n",
    "    Load the data from the file\n",
    "    \n",
    "    \"\"\"\n",
    "\n",
    "    data = pd.read_csv('Airbnb/airbnb_price.csv')\n",
    "    return data\n",
    "\n",
    "def Room_Type_dataset():\n",
    "    # Load the data from the file\n",
    "    data = pd.ExcelFile(\"Airbnb/airbnb_room_type.xlsx\")\n",
    "    roomtype = data.parse(0)\n",
    "    return roomtype\n",
    "\n",
    "def Review_dataset():\n",
    "    # Load the data from the file\n",
    "    data = pd.read_csv('Airbnb/airbnb_last_review.tsv', sep='\\t')\n",
    "    return data"
   ]
  },
  {
   "cell_type": "code",
   "execution_count": 11,
   "metadata": {},
   "outputs": [
    {
     "data": {
      "text/html": [
       "<div>\n",
       "<style scoped>\n",
       "    .dataframe tbody tr th:only-of-type {\n",
       "        vertical-align: middle;\n",
       "    }\n",
       "\n",
       "    .dataframe tbody tr th {\n",
       "        vertical-align: top;\n",
       "    }\n",
       "\n",
       "    .dataframe thead th {\n",
       "        text-align: right;\n",
       "    }\n",
       "</style>\n",
       "<table border=\"1\" class=\"dataframe\">\n",
       "  <thead>\n",
       "    <tr style=\"text-align: right;\">\n",
       "      <th></th>\n",
       "      <th>listing_id</th>\n",
       "      <th>price</th>\n",
       "      <th>nbhood_full</th>\n",
       "    </tr>\n",
       "  </thead>\n",
       "  <tbody>\n",
       "    <tr>\n",
       "      <th>0</th>\n",
       "      <td>2595</td>\n",
       "      <td>225 dollars</td>\n",
       "      <td>Manhattan, Midtown</td>\n",
       "    </tr>\n",
       "    <tr>\n",
       "      <th>1</th>\n",
       "      <td>3831</td>\n",
       "      <td>89 dollars</td>\n",
       "      <td>Brooklyn, Clinton Hill</td>\n",
       "    </tr>\n",
       "    <tr>\n",
       "      <th>2</th>\n",
       "      <td>5099</td>\n",
       "      <td>200 dollars</td>\n",
       "      <td>Manhattan, Murray Hill</td>\n",
       "    </tr>\n",
       "    <tr>\n",
       "      <th>3</th>\n",
       "      <td>5178</td>\n",
       "      <td>79 dollars</td>\n",
       "      <td>Manhattan, Hell's Kitchen</td>\n",
       "    </tr>\n",
       "    <tr>\n",
       "      <th>4</th>\n",
       "      <td>5238</td>\n",
       "      <td>150 dollars</td>\n",
       "      <td>Manhattan, Chinatown</td>\n",
       "    </tr>\n",
       "    <tr>\n",
       "      <th>...</th>\n",
       "      <td>...</td>\n",
       "      <td>...</td>\n",
       "      <td>...</td>\n",
       "    </tr>\n",
       "    <tr>\n",
       "      <th>25204</th>\n",
       "      <td>36425863</td>\n",
       "      <td>129 dollars</td>\n",
       "      <td>Manhattan, Upper East Side</td>\n",
       "    </tr>\n",
       "    <tr>\n",
       "      <th>25205</th>\n",
       "      <td>36427429</td>\n",
       "      <td>45 dollars</td>\n",
       "      <td>Queens, Flushing</td>\n",
       "    </tr>\n",
       "    <tr>\n",
       "      <th>25206</th>\n",
       "      <td>36438336</td>\n",
       "      <td>235 dollars</td>\n",
       "      <td>Staten Island, Great Kills</td>\n",
       "    </tr>\n",
       "    <tr>\n",
       "      <th>25207</th>\n",
       "      <td>36442252</td>\n",
       "      <td>100 dollars</td>\n",
       "      <td>Bronx, Mott Haven</td>\n",
       "    </tr>\n",
       "    <tr>\n",
       "      <th>25208</th>\n",
       "      <td>36455809</td>\n",
       "      <td>30 dollars</td>\n",
       "      <td>Brooklyn, Bushwick</td>\n",
       "    </tr>\n",
       "  </tbody>\n",
       "</table>\n",
       "<p>25209 rows × 3 columns</p>\n",
       "</div>"
      ],
      "text/plain": [
       "       listing_id        price                 nbhood_full\n",
       "0            2595  225 dollars          Manhattan, Midtown\n",
       "1            3831   89 dollars      Brooklyn, Clinton Hill\n",
       "2            5099  200 dollars      Manhattan, Murray Hill\n",
       "3            5178   79 dollars   Manhattan, Hell's Kitchen\n",
       "4            5238  150 dollars        Manhattan, Chinatown\n",
       "...           ...          ...                         ...\n",
       "25204    36425863  129 dollars  Manhattan, Upper East Side\n",
       "25205    36427429   45 dollars            Queens, Flushing\n",
       "25206    36438336  235 dollars  Staten Island, Great Kills\n",
       "25207    36442252  100 dollars           Bronx, Mott Haven\n",
       "25208    36455809   30 dollars          Brooklyn, Bushwick\n",
       "\n",
       "[25209 rows x 3 columns]"
      ]
     },
     "execution_count": 11,
     "metadata": {},
     "output_type": "execute_result"
    }
   ],
   "source": [
    "Price_dataset()"
   ]
  },
  {
   "cell_type": "code",
   "execution_count": 5,
   "metadata": {},
   "outputs": [
    {
     "name": "stdout",
     "output_type": "stream",
     "text": [
      "count    25209.000000\n",
      "mean       141.777936\n",
      "std        147.349137\n",
      "min          0.000000\n",
      "25%         69.000000\n",
      "50%        105.000000\n",
      "75%        175.000000\n",
      "max       7500.000000\n",
      "Name: price, dtype: float64\n"
     ]
    }
   ],
   "source": [
    "# Remove White space an string characters\n",
    "def replace_values_in_column(dataframe, column_name, string_to_replace, replace_with) -> pd.DataFrame:\n",
    "    \"\"\"\n",
    "    This function Removes specific string characters from a column in a dataframe.\n",
    "\n",
    "    Args:\n",
    "            dataframe: The dataframe to be cleaned. Ensure that the dataframe has been imported before calling this function.\n",
    "\n",
    "            column_name : The name of the column to be cleaned.\n",
    "            \n",
    "            string_to_replace : The string characters to be replaced in the column.\n",
    "\n",
    "            replace_with : The string to replace the string characters with.\n",
    "\n",
    "    Returns:\n",
    "        The dataframe with the replaced values in the specified column.\n",
    "    \"\"\"\n",
    "    dataframe[column_name] = dataframe[column_name].str.replace(string_to_replace, replace_with)\n",
    "    return dataframe\n",
    "\n",
    "# Now you can specify the string to replace when calling the function\n",
    "Price = replace_values_in_column(Price_dataset(), 'price', ' dollars', '')\n",
    "\n",
    "# Convert the price column to numeric\n",
    "Price['price'] = pd.to_numeric(Price['price'])\n",
    "print(Price[\"price\"].describe())"
   ]
  },
  {
   "cell_type": "markdown",
   "metadata": {},
   "source": [
    "# Detecting any outliers\n"
   ]
  },
  {
   "cell_type": "code",
   "execution_count": 13,
   "metadata": {},
   "outputs": [],
   "source": [
    "#Profile = ProfileReport(Price, title=\"Pandas Profiling Report\")\n",
    "#display(Profile)\n"
   ]
  },
  {
   "cell_type": "markdown",
   "metadata": {},
   "source": [
    "## Outliers\n",
    "An outlier is a data point in a dataset that is distant from all other observation. Outliers can find their way into a dataset naturally through variability, or they can be the result of issues like human error, faulty equipment, or poor sampling. Regardless of how they get into the data, outliers can have a big impact on statistical analysis and machine learning because they impact calculations like mean and standard deviation, and they can skew hypothesis tests.  "
   ]
  },
  {
   "cell_type": "code",
   "execution_count": 15,
   "metadata": {},
   "outputs": [],
   "source": [
    "\n",
    "def Seaborn_chats(Type, Dataset, x, y=None):\n",
    "    \"\"\"\n",
    "    This function takes in the type of seaborn plot to be generated and the dataset to be used to generate the plot.\n",
    "    Args:\n",
    "        Type: The type of seaborn plot to be generated. It can be a barplot, scatterplot, boxplot, etc.\n",
    "        Dataset: The dataset to be used to generate the plot.\n",
    "        x: The x-axis of the plot.\n",
    "        y: The y-axis of the plot. If not provided, only the x column will be plotted.\n",
    "    Returns:\n",
    "        The plot generated using the seaborn library.\n",
    "    \"\"\"\n",
    "    sns.set(style=\"whitegrid\")\n",
    "    if Type == \"barplot\":\n",
    "        return sns.barplot(data=Dataset, x=x, y=y)\n",
    "    elif Type == \"scatterplot\":\n",
    "        return sns.scatterplot(data=Dataset, x=x, y=y)\n",
    "    elif Type == \"boxplot\":\n",
    "        return sns.boxplot(data=Dataset, x=x, y=y)\n",
    "    elif Type == \"violinplot\":\n",
    "        return sns.violinplot(data=Dataset, x=x, y=y)\n",
    "    elif Type == \"stripplot\":\n",
    "        return sns.stripplot(data=Dataset, x=x, y=y)\n",
    "    elif Type == \"swarmplot\":\n",
    "        return sns.swarmplot(data=Dataset, x=x, y=y)\n",
    "    elif Type == \"countplot\":\n",
    "        return sns.countplot(data=Dataset, x=x)\n",
    "    elif Type == \"pointplot\":\n",
    "        return sns.pointplot(data=Dataset, x=x, y=y)\n",
    "    elif Type == \"lmplot\":\n",
    "        return sns.lmplot(data=Dataset, x=x, y=y)\n",
    "    elif Type == \"relplot\":\n",
    "        return sns.relplot(data=Dataset, x=x, y=y)\n",
    "    elif Type == \"catplot\":\n",
    "        return sns.catplot(data=Dataset, x=x, y=y)\n",
    "    else:\n",
    "        return \"Invalid plot type\""
   ]
  },
  {
   "cell_type": "code",
   "execution_count": 23,
   "metadata": {},
   "outputs": [
    {
     "name": "stderr",
     "output_type": "stream",
     "text": [
      "c:\\Users\\eobay\\OneDrive\\Desktop\\Portfolio\\Hire me\\Git Upload\\NYC-Airbnb-Market-\\.conda\\Lib\\site-packages\\seaborn\\_oldcore.py:1498: FutureWarning: is_categorical_dtype is deprecated and will be removed in a future version. Use isinstance(dtype, CategoricalDtype) instead\n",
      "  if pd.api.types.is_categorical_dtype(vector):\n",
      "C:\\Users\\eobay\\AppData\\Local\\Temp\\ipykernel_40496\\4269976471.py:2: UserWarning: FigureCanvasAgg is non-interactive, and thus cannot be shown\n",
      "  plt.show()\n"
     ]
    }
   ],
   "source": [
    "Seaborn_chats(\"barplot\", Price, \"price\")\n",
    "\n",
    "#"
   ]
  },
  {
   "cell_type": "code",
   "execution_count": null,
   "metadata": {},
   "outputs": [],
   "source": []
  }
 ],
 "metadata": {
  "kernelspec": {
   "display_name": "Python 3",
   "language": "python",
   "name": "python3"
  },
  "language_info": {
   "codemirror_mode": {
    "name": "ipython",
    "version": 3
   },
   "file_extension": ".py",
   "mimetype": "text/x-python",
   "name": "python",
   "nbconvert_exporter": "python",
   "pygments_lexer": "ipython3",
   "version": "3.11.8"
  }
 },
 "nbformat": 4,
 "nbformat_minor": 2
}
