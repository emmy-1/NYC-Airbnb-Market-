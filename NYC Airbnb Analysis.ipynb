{
 "cells": [
  {
   "cell_type": "markdown",
   "metadata": {},
   "source": [
    "## NYC Airbnb Market Analysis\n",
    "As a consultant working for a real estate start-up, you have collected Airbnb listing data from various sources to investigate the short-term rental market in New York. You'll analyze this data to provide insights on private rooms to the real estate company.\n",
    "\n"
   ]
  },
  {
   "cell_type": "markdown",
   "metadata": {},
   "source": [
    "### Aims And Objectives\n",
    "\n",
    "1. What are the dates of the earliest and most recent reviews? Store these values as two separate variables with your preferred names.\n",
    "2. How many of the listings are private rooms? Save this into any variable.\n",
    "3. What is the average listing price? Round to the nearest penny and save into a variable.\n",
    "4. Combine the new variables into one DataFrame called review_dates with four columns in the following order: \n",
    "   first_reviewed, last_reviewed,    nb_private_rooms, and avg_price. The DataFrame should only contain one row of values."
   ]
  },
  {
   "cell_type": "markdown",
   "metadata": {},
   "source": [
    "### Data Gathering\n",
    "Three files containing data on 2019 Airbnb listings will be used to answer these questions"
   ]
  },
  {
   "cell_type": "markdown",
   "metadata": {},
   "source": [
    "### Importing the Airbnb Dataset"
   ]
  },
  {
   "cell_type": "code",
   "execution_count": 4,
   "metadata": {},
   "outputs": [],
   "source": [
    "import pandas as pd\n",
    "import datetime as dt\n",
    "import numpy as np\n",
    "import matplotlib.pyplot as plt\n",
    "import seaborn as sns\n",
    "from ydata_profiling import ProfileReport\n"
   ]
  },
  {
   "cell_type": "code",
   "execution_count": 5,
   "metadata": {},
   "outputs": [],
   "source": [
    "# Seaborn_chats function\n",
    "def Seaborn_chats(Type, Dataset, x, y=None):\n",
    "    \"\"\"\n",
    "    This function takes in the type of seaborn plot to be generated and the dataset to be used to generate the plot.\n",
    "    Args:\n",
    "        Type: The type of seaborn plot to be generated. It can be a barplot, scatterplot, boxplot, etc.\n",
    "        Dataset: The dataset to be used to generate the plot.\n",
    "        x: The x-axis of the plot.\n",
    "        y: The y-axis of the plot. If not provided, only the x column will be plotted.\n",
    "    Returns:\n",
    "        The plot generated using the seaborn library.\n",
    "    \"\"\"\n",
    "    sns.set(style=\"whitegrid\")\n",
    "    if Type == \"barplot\":\n",
    "        return sns.barplot(data=Dataset, x=x, y=y)\n",
    "    elif Type == \"scatterplot\":\n",
    "        return sns.scatterplot(data=Dataset, x=x, y=y)\n",
    "    elif Type == \"boxplot\":\n",
    "        return sns.boxplot(data=Dataset, x=x, y=y)\n",
    "    elif Type == \"violinplot\":\n",
    "        return sns.violinplot(data=Dataset, x=x, y=y)\n",
    "    elif Type == \"stripplot\":\n",
    "        return sns.stripplot(data=Dataset, x=x, y=y)\n",
    "    elif Type == \"swarmplot\":\n",
    "        return sns.swarmplot(data=Dataset, x=x, y=y)\n",
    "    elif Type == \"countplot\":\n",
    "        return sns.countplot(data=Dataset, x=x)\n",
    "    elif Type == \"pointplot\":\n",
    "        return sns.pointplot(data=Dataset, x=x, y=y)\n",
    "    elif Type == \"lmplot\":\n",
    "        return sns.lmplot(data=Dataset, x=x, y=y)\n",
    "    elif Type == \"relplot\":\n",
    "        return sns.relplot(data=Dataset, x=x, y=y)\n",
    "    elif Type == \"catplot\":\n",
    "        return sns.catplot(data=Dataset, x=x, y=y)\n",
    "    else:\n",
    "        return \"Invalid plot type\""
   ]
  },
  {
   "cell_type": "code",
   "execution_count": 6,
   "metadata": {},
   "outputs": [],
   "source": [
    "def Price_dataset():\n",
    "    \"\"\"\"\n",
    "      Load the data from the file\n",
    "      \n",
    "    \"\"\"\n",
    "    data = pd.read_csv('Airbnb/airbnb_price.csv')\n",
    "    return data\n",
    "\n",
    "def Room_Type_dataset():\n",
    "    # Load the data from the file\n",
    "    data = pd.ExcelFile(\"Airbnb/airbnb_room_type.xlsx\")\n",
    "    roomtype = data.parse(0)\n",
    "    return roomtype\n",
    "\n",
    "def Review_dataset():\n",
    "    # Load the data from the file\n",
    "    data = pd.read_csv('Airbnb/airbnb_last_review.tsv', sep='\\t')\n",
    "    return data"
   ]
  },
  {
   "cell_type": "code",
   "execution_count": 7,
   "metadata": {},
   "outputs": [
    {
     "name": "stdout",
     "output_type": "stream",
     "text": [
      "count    25209.000000\n",
      "mean       141.777936\n",
      "std        147.349137\n",
      "min          0.000000\n",
      "25%         69.000000\n",
      "50%        105.000000\n",
      "75%        175.000000\n",
      "max       7500.000000\n",
      "Name: price, dtype: float64\n"
     ]
    }
   ],
   "source": [
    "# Remove White space an string characters\n",
    "def replace_values_in_column(dataframe, column_name, string_to_replace, replace_with) -> pd.DataFrame:\n",
    "    \"\"\"\n",
    "    This function Removes specific string characters from a column in a dataframe.\n",
    "\n",
    "    Args:\n",
    "            dataframe: The dataframe to be cleaned. Ensure that the dataframe has been imported before calling this function.\n",
    "\n",
    "            column_name : The name of the column to be cleaned.\n",
    "            \n",
    "            string_to_replace : The string characters to be replaced in the column.\n",
    "\n",
    "            replace_with : The string to replace the string characters with.\n",
    "\n",
    "    Returns:\n",
    "        The dataframe with the replaced values in the specified column.\n",
    "    \"\"\"\n",
    "    dataframe[column_name] = dataframe[column_name].str.replace(string_to_replace, replace_with)\n",
    "    return dataframe\n",
    "\n",
    "# Now you can specify the string to replace when calling the function\n",
    "Price = replace_values_in_column(Price_dataset(), 'price', ' dollars', '')\n",
    "\n",
    "# Convert the price column to numeric\n",
    "Price['price'] = pd.to_numeric(Price['price'])\n",
    "print(Price[\"price\"].describe())"
   ]
  },
  {
   "cell_type": "markdown",
   "metadata": {},
   "source": [
    "# Merging The 3 Dataset\n",
    "The most efficient way to answer this question is by combining the three DataFrames into a single DataFrame."
   ]
  },
  {
   "cell_type": "code",
   "execution_count": 8,
   "metadata": {},
   "outputs": [
    {
     "data": {
      "text/html": [
       "<div>\n",
       "<style scoped>\n",
       "    .dataframe tbody tr th:only-of-type {\n",
       "        vertical-align: middle;\n",
       "    }\n",
       "\n",
       "    .dataframe tbody tr th {\n",
       "        vertical-align: top;\n",
       "    }\n",
       "\n",
       "    .dataframe thead th {\n",
       "        text-align: right;\n",
       "    }\n",
       "</style>\n",
       "<table border=\"1\" class=\"dataframe\">\n",
       "  <thead>\n",
       "    <tr style=\"text-align: right;\">\n",
       "      <th></th>\n",
       "      <th>listing_id</th>\n",
       "      <th>price</th>\n",
       "      <th>nbhood_full</th>\n",
       "      <th>description</th>\n",
       "      <th>room_type</th>\n",
       "      <th>host_name</th>\n",
       "      <th>last_review</th>\n",
       "    </tr>\n",
       "  </thead>\n",
       "  <tbody>\n",
       "    <tr>\n",
       "      <th>0</th>\n",
       "      <td>2595</td>\n",
       "      <td>225</td>\n",
       "      <td>Manhattan, Midtown</td>\n",
       "      <td>Skylit Midtown Castle</td>\n",
       "      <td>Entire home/apt</td>\n",
       "      <td>Jennifer</td>\n",
       "      <td>May 21 2019</td>\n",
       "    </tr>\n",
       "    <tr>\n",
       "      <th>1</th>\n",
       "      <td>3831</td>\n",
       "      <td>89</td>\n",
       "      <td>Brooklyn, Clinton Hill</td>\n",
       "      <td>Cozy Entire Floor of Brownstone</td>\n",
       "      <td>Entire home/apt</td>\n",
       "      <td>LisaRoxanne</td>\n",
       "      <td>July 05 2019</td>\n",
       "    </tr>\n",
       "    <tr>\n",
       "      <th>2</th>\n",
       "      <td>5099</td>\n",
       "      <td>200</td>\n",
       "      <td>Manhattan, Murray Hill</td>\n",
       "      <td>Large Cozy 1 BR Apartment In Midtown East</td>\n",
       "      <td>Entire home/apt</td>\n",
       "      <td>Chris</td>\n",
       "      <td>June 22 2019</td>\n",
       "    </tr>\n",
       "    <tr>\n",
       "      <th>3</th>\n",
       "      <td>5178</td>\n",
       "      <td>79</td>\n",
       "      <td>Manhattan, Hell's Kitchen</td>\n",
       "      <td>Large Furnished Room Near B'way</td>\n",
       "      <td>private room</td>\n",
       "      <td>Shunichi</td>\n",
       "      <td>June 24 2019</td>\n",
       "    </tr>\n",
       "    <tr>\n",
       "      <th>4</th>\n",
       "      <td>5238</td>\n",
       "      <td>150</td>\n",
       "      <td>Manhattan, Chinatown</td>\n",
       "      <td>Cute &amp; Cozy Lower East Side 1 bdrm</td>\n",
       "      <td>Entire home/apt</td>\n",
       "      <td>Ben</td>\n",
       "      <td>June 09 2019</td>\n",
       "    </tr>\n",
       "    <tr>\n",
       "      <th>...</th>\n",
       "      <td>...</td>\n",
       "      <td>...</td>\n",
       "      <td>...</td>\n",
       "      <td>...</td>\n",
       "      <td>...</td>\n",
       "      <td>...</td>\n",
       "      <td>...</td>\n",
       "    </tr>\n",
       "    <tr>\n",
       "      <th>25204</th>\n",
       "      <td>36425863</td>\n",
       "      <td>129</td>\n",
       "      <td>Manhattan, Upper East Side</td>\n",
       "      <td>Lovely Privet Bedroom with Privet Restroom</td>\n",
       "      <td>PRIVATE ROOM</td>\n",
       "      <td>Rusaa</td>\n",
       "      <td>July 07 2019</td>\n",
       "    </tr>\n",
       "    <tr>\n",
       "      <th>25205</th>\n",
       "      <td>36427429</td>\n",
       "      <td>45</td>\n",
       "      <td>Queens, Flushing</td>\n",
       "      <td>No.2 with queen size bed</td>\n",
       "      <td>PRIVATE ROOM</td>\n",
       "      <td>H Ai</td>\n",
       "      <td>July 07 2019</td>\n",
       "    </tr>\n",
       "    <tr>\n",
       "      <th>25206</th>\n",
       "      <td>36438336</td>\n",
       "      <td>235</td>\n",
       "      <td>Staten Island, Great Kills</td>\n",
       "      <td>Seas The Moment</td>\n",
       "      <td>Private room</td>\n",
       "      <td>Ben</td>\n",
       "      <td>July 07 2019</td>\n",
       "    </tr>\n",
       "    <tr>\n",
       "      <th>25207</th>\n",
       "      <td>36442252</td>\n",
       "      <td>100</td>\n",
       "      <td>Bronx, Mott Haven</td>\n",
       "      <td>1B-1B apartment near by Metro</td>\n",
       "      <td>Entire home/apt</td>\n",
       "      <td>Blaine</td>\n",
       "      <td>July 07 2019</td>\n",
       "    </tr>\n",
       "    <tr>\n",
       "      <th>25208</th>\n",
       "      <td>36455809</td>\n",
       "      <td>30</td>\n",
       "      <td>Brooklyn, Bushwick</td>\n",
       "      <td>Cozy Private Room in Bushwick, Brooklyn</td>\n",
       "      <td>Private room</td>\n",
       "      <td>Christine</td>\n",
       "      <td>July 08 2019</td>\n",
       "    </tr>\n",
       "  </tbody>\n",
       "</table>\n",
       "<p>25209 rows × 7 columns</p>\n",
       "</div>"
      ],
      "text/plain": [
       "       listing_id  price                 nbhood_full  \\\n",
       "0            2595    225          Manhattan, Midtown   \n",
       "1            3831     89      Brooklyn, Clinton Hill   \n",
       "2            5099    200      Manhattan, Murray Hill   \n",
       "3            5178     79   Manhattan, Hell's Kitchen   \n",
       "4            5238    150        Manhattan, Chinatown   \n",
       "...           ...    ...                         ...   \n",
       "25204    36425863    129  Manhattan, Upper East Side   \n",
       "25205    36427429     45            Queens, Flushing   \n",
       "25206    36438336    235  Staten Island, Great Kills   \n",
       "25207    36442252    100           Bronx, Mott Haven   \n",
       "25208    36455809     30          Brooklyn, Bushwick   \n",
       "\n",
       "                                      description        room_type  \\\n",
       "0                           Skylit Midtown Castle  Entire home/apt   \n",
       "1                 Cozy Entire Floor of Brownstone  Entire home/apt   \n",
       "2       Large Cozy 1 BR Apartment In Midtown East  Entire home/apt   \n",
       "3                 Large Furnished Room Near B'way     private room   \n",
       "4              Cute & Cozy Lower East Side 1 bdrm  Entire home/apt   \n",
       "...                                           ...              ...   \n",
       "25204  Lovely Privet Bedroom with Privet Restroom     PRIVATE ROOM   \n",
       "25205                    No.2 with queen size bed     PRIVATE ROOM   \n",
       "25206                             Seas The Moment     Private room   \n",
       "25207               1B-1B apartment near by Metro  Entire home/apt   \n",
       "25208     Cozy Private Room in Bushwick, Brooklyn     Private room   \n",
       "\n",
       "         host_name   last_review  \n",
       "0         Jennifer   May 21 2019  \n",
       "1      LisaRoxanne  July 05 2019  \n",
       "2            Chris  June 22 2019  \n",
       "3         Shunichi  June 24 2019  \n",
       "4              Ben  June 09 2019  \n",
       "...            ...           ...  \n",
       "25204        Rusaa  July 07 2019  \n",
       "25205         H Ai  July 07 2019  \n",
       "25206          Ben  July 07 2019  \n",
       "25207       Blaine  July 07 2019  \n",
       "25208    Christine  July 08 2019  \n",
       "\n",
       "[25209 rows x 7 columns]"
      ]
     },
     "execution_count": 8,
     "metadata": {},
     "output_type": "execute_result"
    }
   ],
   "source": [
    "def New_York_Airbnb_dataset() -> pd.DataFrame:\n",
    "    \"\"\"\n",
    "    This function merges the three datasets together to form a single dataset.\n",
    "    args:\n",
    "        None\n",
    "    Returns:\n",
    "        The merged dataset.\n",
    "    \"\"\"\n",
    "    Price_Room = pd.merge(Price, Room_Type_dataset(), on='listing_id', how='inner')\n",
    "    New_York_Airbnb = pd.merge(Price_Room, Review_dataset(), on='listing_id', how='inner')\n",
    "    return New_York_Airbnb\n",
    "New_York_Airbnb_dataset()"
   ]
  },
  {
   "cell_type": "markdown",
   "metadata": {},
   "source": [
    "# Question 1\n",
    "\n",
    "What are the dates of the earliest and most recent reviews? Store these values as two separate variables"
   ]
  },
  {
   "cell_type": "code",
   "execution_count": 9,
   "metadata": {},
   "outputs": [
    {
     "data": {
      "text/plain": [
       "(Timestamp('2019-01-01 00:00:00'), Timestamp('2019-07-09 00:00:00'))"
      ]
     },
     "execution_count": 9,
     "metadata": {},
     "output_type": "execute_result"
    }
   ],
   "source": [
    "def to_datetime(Datasetname, columnname): \n",
    "    \"\"\"\n",
    "    This function converts the last_review column to datetime.\n",
    "    Args:\n",
    "        Datasetname: The name of the dataset to be used. Ensure that the dataset has been imported before calling this function.\n",
    "        columnname: The name of the column to be converted to datetime.\n",
    "    Returns:\n",
    "        The New_York_Airbnb dataset with the last_review column converted to datetime.\n",
    "    \"\"\"\n",
    "    Datasetname[columnname] = pd.to_datetime(Datasetname[columnname])\n",
    "    return Datasetname\n",
    "\n",
    "New_York_Airbnb = to_datetime(New_York_Airbnb_dataset(), 'last_review')\n",
    "New_York_Airbnb.head().dtypes\n",
    "\n",
    "# find the earliest and most recent review dates\n",
    "\n",
    "def earliest_and_most_recent_review(Datasetname):\n",
    "    \"\"\"\n",
    "    This function calculates the earliest and most recent review dates.\n",
    "    Args:\n",
    "        Datasetname: The name of the dataset to be used. Ensure that the dataset has been imported before calling this function.\n",
    "    Returns:\n",
    "        The earliest and most recent review dates.\n",
    "    \"\"\"\n",
    "    earliestdate = Datasetname['last_review'].min()\n",
    "    mostrecentdate = Datasetname['last_review'].max()\n",
    "    return earliestdate, mostrecentdate\n",
    "earliest_and_most_recent_review(New_York_Airbnb)\n"
   ]
  },
  {
   "cell_type": "markdown",
   "metadata": {},
   "source": [
    "# Question 2\n",
    "How many of the listings are private rooms? Save this into any variable"
   ]
  },
  {
   "cell_type": "code",
   "execution_count": 10,
   "metadata": {},
   "outputs": [
    {
     "name": "stdout",
     "output_type": "stream",
     "text": [
      "Total private room count: 2248\n"
     ]
    }
   ],
   "source": [
    "def private_count() -> int:\n",
    "    \"\"\"\n",
    "    This function counts the number of private rooms in the dataset.\n",
    "    Args:\n",
    "        dataset: The dataset to be used. Ensure that the dataset has been imported before calling this function.\n",
    "    Returns:\n",
    "        The number of private rooms in the dataset.\n",
    "    \"\"\"\n",
    "    Private_room = New_York_Airbnb[New_York_Airbnb['room_type'] == 'private room']\n",
    "    private_count = len(Private_room)\n",
    "    return private_count\n",
    "\n",
    "Count = private_count()\n",
    "print('Total private room count:', Count)\n"
   ]
  },
  {
   "cell_type": "markdown",
   "metadata": {},
   "source": [
    "# Question 3\n",
    "What is the average listing price? Round to the nearest penny and save into a variable."
   ]
  },
  {
   "cell_type": "code",
   "execution_count": 15,
   "metadata": {},
   "outputs": [
    {
     "data": {
      "text/plain": [
       "141.7779364512674"
      ]
     },
     "execution_count": 15,
     "metadata": {},
     "output_type": "execute_result"
    }
   ],
   "source": [
    "def toflaot(Datasetname, columnname): \n",
    "    \"\"\"\n",
    "    This function converts the price column to float.\n",
    "    Args:\n",
    "        Datasetname: The name of the dataset to be used. Ensure that the dataset has been imported before calling this function.\n",
    "        columnname: The name of the column to be converted to float.\n",
    "    Returns:\n",
    "        The New_York_Airbnb dataset with the price column converted to float.\n",
    "    \"\"\"\n",
    "    New_York_Airbnb[columnname] = New_York_Airbnb[columnname].astype(float)\n",
    "    return Datasetname\n",
    "New_York_Airbnb = toflaot(New_York_Airbnb, 'price')\n",
    "\n",
    "# Calculate the average price of a private room in New York\n",
    "\n",
    "def average_price(dataset):\n",
    "    \"\"\"\n",
    "    This function calculates the average price of a private room in New York.\n",
    "    Args:\n",
    "        dataset: The dataset to be used. Ensure that the dataset has been imported before calling this function.\n",
    "    Returns:\n",
    "        The average price of a private room in New York.\n",
    "    \"\"\"\n",
    "    average_price = dataset['price'].mean()\n",
    "    return average_price\n",
    "average_price(New_York_Airbnb)"
   ]
  },
  {
   "cell_type": "markdown",
   "metadata": {},
   "source": [
    "# Question 4\n",
    "Combine the new variables into one DataFrame called review_dates with four columns in the following order: first_reviewed, last_reviewed, nb_private_rooms, and avg_price. The DataFrame should only contain one row of values."
   ]
  },
  {
   "cell_type": "code",
   "execution_count": 19,
   "metadata": {},
   "outputs": [
    {
     "data": {
      "text/html": [
       "<div>\n",
       "<style scoped>\n",
       "    .dataframe tbody tr th:only-of-type {\n",
       "        vertical-align: middle;\n",
       "    }\n",
       "\n",
       "    .dataframe tbody tr th {\n",
       "        vertical-align: top;\n",
       "    }\n",
       "\n",
       "    .dataframe thead th {\n",
       "        text-align: right;\n",
       "    }\n",
       "</style>\n",
       "<table border=\"1\" class=\"dataframe\">\n",
       "  <thead>\n",
       "    <tr style=\"text-align: right;\">\n",
       "      <th></th>\n",
       "      <th>Earliest Review Date</th>\n",
       "      <th>Most Recent Review Date</th>\n",
       "      <th>Number of private_rooms</th>\n",
       "      <th>Averageprice</th>\n",
       "    </tr>\n",
       "  </thead>\n",
       "  <tbody>\n",
       "    <tr>\n",
       "      <th>0</th>\n",
       "      <td>2019-01-01</td>\n",
       "      <td>2019-07-09</td>\n",
       "      <td>2248</td>\n",
       "      <td>141.777936</td>\n",
       "    </tr>\n",
       "  </tbody>\n",
       "</table>\n",
       "</div>"
      ],
      "text/plain": [
       "  Earliest Review Date Most Recent Review Date  Number of private_rooms  \\\n",
       "0           2019-01-01              2019-07-09                     2248   \n",
       "\n",
       "   Averageprice  \n",
       "0    141.777936  "
      ]
     },
     "execution_count": 19,
     "metadata": {},
     "output_type": "execute_result"
    }
   ],
   "source": [
    "# Add Answers to one dataframe\n",
    "Review_Dates = pd.DataFrame({'Earliest Review Date': [earliest_and_most_recent_review(New_York_Airbnb)[0]], 'Most Recent Review Date': [earliest_and_most_recent_review(New_York_Airbnb)[1]], \n",
    "                             'Number of private_rooms': [private_count()], 'Averageprice': [average_price(New_York_Airbnb)]})\n",
    "Review_Dates.head()"
   ]
  },
  {
   "cell_type": "markdown",
   "metadata": {},
   "source": [
    "# Detecting any outliers\n"
   ]
  },
  {
   "cell_type": "code",
   "execution_count": 11,
   "metadata": {},
   "outputs": [],
   "source": [
    "#Profile = ProfileReport(Price, title=\"Pandas Profiling Report\")\n",
    "#display(Profile)\n"
   ]
  },
  {
   "cell_type": "markdown",
   "metadata": {},
   "source": [
    "## Outliers\n",
    "**Outliers** are data points that are far from the other observations in a dataset. They can occur naturally due to variability or can be caused by issues like human error, faulty equipment, or poor sampling. Outliers can significantly affect statistical analysis and machine learning since they can skew hypothesis tests and calculations like mean and standard deviation.\n",
    "\n",
    "To fix outliers, different techniques can be used, but in this example, we will use the **interquartile range (IQR) method**. The IQR method involves identifying the outliers as those data points that fall below Q1–1.5 IQR or above Q3 + 1.5 IQR. Q1 represents the 25th percentile, Q3 represents the 75th percentile, and IQR represents the interquartile range calculated by Q3 minus Q1. We can easily create a function in Python using the convenient pandas .quantile() function that takes in our column from the dataframe and outputs the outliers."
   ]
  },
  {
   "cell_type": "code",
   "execution_count": 6,
   "metadata": {},
   "outputs": [
    {
     "name": "stderr",
     "output_type": "stream",
     "text": [
      "c:\\Users\\eobay\\OneDrive\\Desktop\\Portfolio\\Hire me\\Git Upload\\NYC-Airbnb-Market-\\.conda\\Lib\\site-packages\\seaborn\\_oldcore.py:1498: FutureWarning: is_categorical_dtype is deprecated and will be removed in a future version. Use isinstance(dtype, CategoricalDtype) instead\n",
      "  if pd.api.types.is_categorical_dtype(vector):\n"
     ]
    },
    {
     "data": {
      "text/plain": [
       "<Axes: xlabel='price'>"
      ]
     },
     "execution_count": 6,
     "metadata": {},
     "output_type": "execute_result"
    },
    {
     "data": {
      "image/png": "[encoded data removed]",
      "text/plain": [
       "<Figure size 640x480 with 1 Axes>"
      ]
     },
     "metadata": {},
     "output_type": "display_data"
    }
   ],
   "source": [
    "Seaborn_chats(\"boxplot\", Price, \"price\")"
   ]
  },
  {
   "cell_type": "code",
   "execution_count": null,
   "metadata": {},
   "outputs": [],
   "source": []
  }
 ],
 "metadata": {
  "kernelspec": {
   "display_name": "Python 3",
   "language": "python",
   "name": "python3"
  },
  "language_info": {
   "codemirror_mode": {
    "name": "ipython",
    "version": 3
   },
   "file_extension": ".py",
   "mimetype": "text/x-python",
   "name": "python",
   "nbconvert_exporter": "python",
   "pygments_lexer": "ipython3",
   "version": "3.11.8"
  }
 },
 "nbformat": 4,
 "nbformat_minor": 2
}
